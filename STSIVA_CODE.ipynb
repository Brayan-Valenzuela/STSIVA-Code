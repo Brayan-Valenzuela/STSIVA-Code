{
 "cells": [
  {
   "cell_type": "markdown",
   "metadata": {},
   "source": [
    "# STSIVA CODE"
   ]
  },
  {
   "cell_type": "code",
   "execution_count": 22,
   "metadata": {},
   "outputs": [],
   "source": [
    "class Magnificacion:\n",
    "#----------------------------------------------------------------------------------------------------------\n",
    "    def __init__(self,video,tipo):\n",
    "        \n",
    "        import os \n",
    "        \n",
    "        parte = []\n",
    "        palabra = \"\"\n",
    "        \n",
    "        for caracter in os.getcwd() + '/':\n",
    "            \n",
    "            if caracter != '/':\n",
    "            \n",
    "                palabra += caracter\n",
    "                \n",
    "            else:\n",
    "                \n",
    "                parte.append(palabra)\n",
    "                palabra = \"\"\n",
    "    \n",
    "        self.home  = parte[2]\n",
    "        self.video = video\n",
    "        self.tipo  = tipo\n",
    "        self.path  = os.getcwd() + '/'\n",
    "#--------------------------------------------------------------------------------------------------------------\n",
    "    \n",
    "    def SacarFotogramas(self):\n",
    "        \n",
    "        import subprocess\n",
    "        \n",
    "        subprocess.call(['bash', 'sacar_fotogramas(tipo).sh', self.path, self.video[:-1], \n",
    "                         self.video[:-1], self.tipo, self.home])\n",
    "#---------------------------------------------------------------------------------------------------------------\n",
    "    def SortDir(self,path):\n",
    "        import os\n",
    "        import numpy as np\n",
    "        frames = os.listdir(path)\n",
    "\n",
    "        indices=[]\n",
    "\n",
    "        for i in frames:\n",
    "            indices.append(int(i[10:13]))\n",
    "\n",
    "\n",
    "        sort_indices = np.sort(indices)\n",
    "        sort_frames = []       \n",
    "        for i in sort_indices:\n",
    "                if i<10:\n",
    "                    sort_frames.append(\"fotograma-00\"+str(i)+\".png\") \n",
    "                elif i<100:  \n",
    "                     sort_frames.append(\"fotograma-0\"+str(i)+\".png\")\n",
    "                else:\n",
    "                     sort_frames.append(\"fotograma-\"+str(i)+\".png\")\n",
    "                        \n",
    "        \n",
    "        return sort_frames\n",
    "#--------------------------------------------------------------------------------------------------------\n",
    "    \n",
    "    def Secmentar(self, frames):\n",
    "        \n",
    "        import cv2\n",
    "        import subprocess\n",
    "        import numpy\n",
    "        \n",
    "        fgbg = cv2.bgsegm.createBackgroundSubtractorMOG()\n",
    "        subprocess.call(['mkdir','segmentacion'])\n",
    "        \n",
    "        for frame in frames:\n",
    "            \n",
    "            img = cv2.imread(self.path + self.video + frame)\n",
    "            Segmentacion = fgbg.apply(img)\n",
    "            cv2.imwrite(self.path + 'segmentacion/' + frame, Segmentacion)\n",
    "#-------------------------------------------------------------------------------------------------------\n",
    "    def Magnificar(self, y, x, alfa):\n",
    "        \n",
    "        x = int(alfa*x)\n",
    "        y = int(alfa*y)\n",
    "        \n",
    "        return int(y), int(x)\n",
    "#----------------------------------------------------------------------------------------------------------\n",
    "    def CentroDeMasa(self, img):\n",
    "        \n",
    "        from scipy import ndimage\n",
    "        import numpy as np\n",
    "        \n",
    "        mass_center_tuple = ndimage.measurements.center_of_mass(img)\n",
    "        \n",
    "        if np.isnan(mass_center_tuple[0]) and np.isnan(mass_center_tuple[1]):\n",
    "\n",
    "            mass_center = [0,0]\n",
    "            \n",
    "            return mass_center\n",
    "\n",
    "        else:\n",
    "\n",
    "            mass_center=[int(mass_center_tuple[0]),int(mass_center_tuple[1])]\n",
    "            \n",
    "            return mass_center\n",
    "#-------------------------------------------------------------------------------------------------------------\n",
    "    def CoMOriginal(self, frames):   \n",
    "        \n",
    "        import cv2\n",
    "        import numpy as np\n",
    "        \n",
    "        centros_o = []\n",
    "        \n",
    "        for frame in frames:\n",
    "            \n",
    "            img = cv2.imread(self.path + 'segmentacion/' + frame)\n",
    "            centro_de_masa = self.CentroDeMasa(img)\n",
    "            centros_o.append(centro_de_masa)\n",
    "            \n",
    "                \n",
    "        print np.shape(centros_o)\n",
    "        return np.array(centros_o)\n",
    "    \n",
    "    \n",
    "#-------------------------------------------------------------------------------------------------------------\n",
    "    def CoMMagnificado(self, frames, a):   \n",
    "        \n",
    "        import cv2\n",
    "        import numpy as np\n",
    "        \n",
    "        centros_m = []\n",
    "        \n",
    "        for i,frame in enumerate(frames):\n",
    "            if i != len(frames)-1:\n",
    "                \n",
    "                img1 = cv2.imread(self.path + 'segmentacion/' + frame)\n",
    "                img2 = cv2.imread(self.path + 'segmentacion/' + frames[i+1])\n",
    "                CoM1 = self.CentroDeMasa(img1)\n",
    "                CoM2 = self.CentroDeMasa(img2)\n",
    "                y = CoM2[0] - CoM1[0]\n",
    "                x = CoM2[1] - CoM1[1]\n",
    "                y_m, x_m = self.Magnificar(y, x, a)\n",
    "                Y = y_m + CoM1[0]\n",
    "                X = x_m + CoM1[1]\n",
    "                centros_m.append([Y,X])\n",
    "        print np.shape(centros_m)\n",
    "        return np.array(centros_m)\n",
    "                \n",
    "        \n",
    "#-------------------------------------------------------------------------------------------------------------\n",
    "    def Normalizar(self, array):\n",
    "        import numpy as np\n",
    "        maximo = np.max(array)\n",
    "        array = array/float(maximo)\n",
    "        return array\n",
    "    \n",
    "#------------------------------------------------------------------------------------------------------------\n",
    "    def NormaMedia(self, array):\n",
    "        import numpy as np\n",
    "        media = np.average(array)\n",
    "        array = array - media\n",
    "        return array\n",
    "    \n",
    "    \n",
    "#------------------------------------------------------------------------------------------------------------\n",
    "    def Visual(self, frames, CoM_ori, CoM_mag, alfa):\n",
    "        \n",
    "        import numpy as np\n",
    "        import cv2\n",
    "        import subprocess\n",
    "        import matplotlib.pyplot as plt\n",
    "        \n",
    "        subprocess.call(['mkdir', 'Magnificado'])\n",
    "        img_prueba = cv2.imread(self.path + self.video +'fotograma-003.png')\n",
    "        tam = img_prueba.shape\n",
    "        print 'tamaño de fotogramas (y, x, z): ' + str(tam)\n",
    "        \n",
    "        \n",
    "        \n",
    "        for i, frame in enumerate(frames):\n",
    "            if i != len(frames)-1:\n",
    "                \n",
    "                img_final = np.zeros((tam[0],tam[1],tam[2]))\n",
    "                silueta = cv2.imread(self.path + 'segmentacion/' + frame, 0)\n",
    "                img_color = cv2.imread(self.path + self.video + frame,1)\n",
    "                dif_y = abs(CoM_mag[i][0]-CoM_ori[i][0])\n",
    "                dif_x = abs(CoM_mag[i][1]-CoM_ori[i][1])\n",
    "                \n",
    "                for y in range(tam[0]):\n",
    "                    for x in range(tam[1]):\n",
    "                        \n",
    "                        pixel = silueta[y,x]\n",
    "                        \n",
    "                        if pixel == 255 and y+dif_y<tam[0] and  y+dif_y>0 and x+dif_x<tam[1] and  x+dif_x>0:\n",
    "                            \n",
    "                            img_final[y+dif_y, x+dif_x] = img_color[y,x]\n",
    "                            \n",
    "                        \n",
    "                cv2.imwrite(self.path + 'Magnificado/' + frame, img_final)\n",
    "                    \n",
    "        fondo = np.zeros((tam[0],tam[1],tam[2]))\n",
    "        \n",
    "        for frame in frames:\n",
    "            \n",
    "            img = cv2.imread(self.path + self.video + frame,1)\n",
    "            fondo = fondo + img\n",
    "            \n",
    "        fondo = fondo/len(frames)\n",
    "        subprocess.call(['mkdir','Final'])\n",
    "        \n",
    "        for i, frame in enumerate(frames):\n",
    "            if i != len(frames)-1:\n",
    "                \n",
    "                img = cv2.imread(self.path + 'Magnificado/' + frame)\n",
    "                img[img == [0,0,0]] = fondo[img == [0,0,0]]\n",
    "                cv2.imwrite(self.path + 'Final/' + frame, img)\n",
    "        \n",
    "        subprocess.call(['bash', 'armar_video.sh', self.video[:-5] + '-aumentado-en-' + str(alfa) + '.mp4',\n",
    "                         'Final', self.path])\n",
    "        \n",
    "        #cv2.imwrite(self.path + frame, fondo)\n",
    "\n",
    "#------------------------------------------------------------------------------------------------------------\n",
    "    def CoMCuantitativo(self, alfa):\n",
    "        \n",
    "        import numpy as np\n",
    "        import subprocess\n",
    "        \n",
    "        self.SacarFotogramas()\n",
    "        frames = self.SortDir(self.path + self.video[:-1])\n",
    "        self.Secmentar(frames)\n",
    "        CoM_ori = self.CoMOriginal(frames)\n",
    "        CoM_mag = self.CoMMagnificado(frames, alfa)\n",
    "        originales   = CoM_ori[:, 0]\n",
    "        magnificado = CoM_mag[:, 0]\n",
    "        mitad = int(len(originales)/2)\n",
    "        subprocess.call(['rm', '-r', self.video])\n",
    "        subprocess.call(['rm', '-r', 'segmentacion'])\n",
    "        return (self.NormaMedia(self.Normalizar(originales[mitad-35:mitad+35]))\n",
    "                             , self.NormaMedia(self.Normalizar(magnificado[mitad-35:mitad+35])))\n",
    "        \n",
    "    def CoMVisual(self, alfa):\n",
    "        \n",
    "        import numpy as np\n",
    "        import subprocess\n",
    "        \n",
    "        self.SacarFotogramas()\n",
    "        frames = self.SortDir(self.path + self.video[:-1])\n",
    "        self.Secmentar(frames)\n",
    "        CoM_ori = self.CoMOriginal(frames)\n",
    "        CoM_mag = self.CoMMagnificado(frames, alfa)\n",
    "        self.Visual(frames, CoM_ori, CoM_mag, alfa)\n",
    "        subprocess.call(['rm', '-r' , self.video])\n",
    "        subprocess.call(['rm', '-r' , 'Final'])\n",
    "        subprocess.call(['rm', '-r' , 'Magnificado'])\n",
    "        subprocess.call(['rm', '-r' , 'segmentacion'])"
   ]
  },
  {
   "cell_type": "code",
   "execution_count": 27,
   "metadata": {},
   "outputs": [
    {
     "name": "stdout",
     "output_type": "stream",
     "text": [
      "(151, 2)\n",
      "(150, 2)\n"
     ]
    }
   ],
   "source": [
    "Obj = Magnificacion('pk3.mp4/', 'pk/')\n",
    "CoM_or, CoM_ma = Obj.CoMCuantitativo(6)"
   ]
  },
  {
   "cell_type": "code",
   "execution_count": 28,
   "metadata": {},
   "outputs": [
    {
     "data": {
      "text/plain": [
       "<function matplotlib.pyplot.show>"
      ]
     },
     "execution_count": 28,
     "metadata": {},
     "output_type": "execute_result"
    },
    {
     "data": {
      "image/png": "[encoded data removed]",
      "text/plain": [
       "<Figure size 432x288 with 1 Axes>"
      ]
     },
     "metadata": {
      "needs_background": "light"
     },
     "output_type": "display_data"
    }
   ],
   "source": [
    "import matplotlib.pyplot as plt\n",
    "\n",
    "plt.plot(CoM_or, color = 'red')\n",
    "plt.plot(CoM_ma, color = 'blue')\n",
    "plt.legend(('Original','Magnified'))\n",
    "plt.xlabel(\"x\")\n",
    "plt.ylabel(\"y\")\n",
    "plt.grid(alpha=0.6)\n",
    "plt.show"
   ]
  },
  {
   "cell_type": "code",
   "execution_count": 29,
   "metadata": {},
   "outputs": [
    {
     "name": "stdout",
     "output_type": "stream",
     "text": [
      "(151, 2)\n",
      "(150, 2)\n",
      "tamaño de fotogramas (y, x, z): (270, 480, 3)\n"
     ]
    }
   ],
   "source": [
    "Obj = Magnificacion('pk3.mp4/', 'pk/')\n",
    "Obj.CoMVisual(6)"
   ]
  },
  {
   "cell_type": "markdown",
   "metadata": {},
   "source": [
    "# Ejemplo de Centro de Masa:"
   ]
  },
  {
   "cell_type": "code",
   "execution_count": 15,
   "metadata": {},
   "outputs": [],
   "source": [
    "def CentroDeMasa(img):\n",
    "        \n",
    "        from scipy import ndimage\n",
    "        import numpy as np\n",
    "        \n",
    "        mass_center_tuple = ndimage.measurements.center_of_mass(img)\n",
    "        \n",
    "        if np.isnan(mass_center_tuple[0]) and np.isnan(mass_center_tuple[1]):\n",
    "\n",
    "            mass_center = [0,0]\n",
    "            \n",
    "            return mass_center\n",
    "\n",
    "        else:\n",
    "\n",
    "            mass_center=[int(mass_center_tuple[0]),int(mass_center_tuple[1])]\n",
    "            \n",
    "            return mass_center"
   ]
  },
  {
   "cell_type": "code",
   "execution_count": 20,
   "metadata": {},
   "outputs": [
    {
     "name": "stdout",
     "output_type": "stream",
     "text": [
      "centro: 64;152\n"
     ]
    },
    {
     "data": {
      "text/plain": [
       "<matplotlib.image.AxesImage at 0x7f841f3e5590>"
      ]
     },
     "execution_count": 20,
     "metadata": {},
     "output_type": "execute_result"
    },
    {
     "data": {
      "image/png": "[encoded data removed]",
      "text/plain": [
       "<Figure size 432x288 with 1 Axes>"
      ]
     },
     "metadata": {
      "needs_background": "light"
     },
     "output_type": "display_data"
    }
   ],
   "source": [
    "import cv2\n",
    "import os\n",
    "import matplotlib.pyplot as plt\n",
    "\n",
    "\n",
    "center_of_mass = CentroDeMasa(cv2.imread('fotograma-059.png')) \n",
    "print 'centro: ' + str(center_of_mass[1]) + ';' + str(center_of_mass[0])\n",
    "plt.scatter(center_of_mass[1],center_of_mass[0], marker=\"x\", s=200, linewidth=5, c=\"b\")\n",
    "plt.imshow(cv2.imread('fotograma-059.png'))"
   ]
  },
  {
   "cell_type": "markdown",
   "metadata": {},
   "source": [
    "# Prueba de Normalizar Media"
   ]
  },
  {
   "cell_type": "code",
   "execution_count": 46,
   "metadata": {},
   "outputs": [
    {
     "data": {
      "text/plain": [
       "<function matplotlib.pyplot.show>"
      ]
     },
     "execution_count": 46,
     "metadata": {},
     "output_type": "execute_result"
    },
    {
     "data": {
      "image/png": "[encoded data removed]",
      "text/plain": [
       "<Figure size 432x288 with 1 Axes>"
      ]
     },
     "metadata": {
      "needs_background": "light"
     },
     "output_type": "display_data"
    }
   ],
   "source": [
    "def NormaMedia(array):\n",
    "        import numpy as np\n",
    "        media = np.average(array)\n",
    "        array = array - media\n",
    "        return array\n",
    "\n",
    "a = [1,2,3,4,5,6,7,8,9]    \n",
    "array = NormaMedia(a)\n",
    "    \n",
    "import matplotlib.pyplot as plt\n",
    "\n",
    "plt.plot(array, color = 'blue')\n",
    "plt.plot(a, color = 'red')\n",
    "plt.legend(('Normalizado','Original'))\n",
    "plt.xlabel(\"x\")\n",
    "plt.ylabel(\"y\")\n",
    "plt.grid(alpha=0.6)\n",
    "plt.show"
   ]
  },
  {
   "cell_type": "markdown",
   "metadata": {},
   "source": [
    "# Prueba de Magnificacion"
   ]
  },
  {
   "cell_type": "code",
   "execution_count": 11,
   "metadata": {},
   "outputs": [
    {
     "data": {
      "text/plain": [
       "(0, 8)"
      ]
     },
     "execution_count": 11,
     "metadata": {},
     "output_type": "execute_result"
    }
   ],
   "source": [
    "def Magnificar(y, x, alfa):\n",
    "        \n",
    "    \n",
    "    x = alfa*x\n",
    "    y = y*alfa\n",
    "    return int(y), int(x)\n",
    "        \n",
    "        \n",
    "Magnificar(0,2,4)"
   ]
  },
  {
   "cell_type": "code",
   "execution_count": null,
   "metadata": {},
   "outputs": [],
   "source": []
  }
 ],
 "metadata": {
  "kernelspec": {
   "display_name": "Python 2",
   "language": "python",
   "name": "python2"
  },
  "language_info": {
   "codemirror_mode": {
    "name": "ipython",
    "version": 2
   },
   "file_extension": ".py",
   "mimetype": "text/x-python",
   "name": "python",
   "nbconvert_exporter": "python",
   "pygments_lexer": "ipython2",
   "version": "2.7.15"
  }
 },
 "nbformat": 4,
 "nbformat_minor": 2
}
