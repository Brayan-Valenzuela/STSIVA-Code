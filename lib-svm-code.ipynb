{
 "cells": [
  {
   "cell_type": "markdown",
   "metadata": {},
   "source": [
    "# Clasificacion Parkinson con Centro de masa"
   ]
  },
  {
   "cell_type": "code",
   "execution_count": 2,
   "metadata": {},
   "outputs": [],
   "source": [
    "class MagnificacionCentroDeMasa:\n",
    "    def __init__(self,path,video,tipo):\n",
    "        self.path = path\n",
    "        self.video = video\n",
    "        self.tipo = tipo\n",
    "        \n",
    "    def SacarFotogramas(self):\n",
    "        import subprocess\n",
    "        subprocess.call(['bash', 'sacar_fotogramas(tipo).sh', self.path, self.video[:-1], self.video[:-1], self.tipo])\n",
    "        #subprocess.call(['bash', 'sacar_fotogramas.sh', self.path, self.video[:-1]) normal\n",
    "    \n",
    "    def SortDir(self,path):\n",
    "        import os\n",
    "        import numpy as np\n",
    "        frames = os.listdir(path)\n",
    "\n",
    "        indices=[]\n",
    "\n",
    "        for i in frames:\n",
    "            indices.append(int(i[10:13]))\n",
    "\n",
    "\n",
    "        sort_indices = np.sort(indices)\n",
    "        sort_frames = []       \n",
    "        for i in sort_indices:\n",
    "                if i<10:\n",
    "                    sort_frames.append(\"fotograma-00\"+str(i)+\".png\") \n",
    "                elif i<100:  \n",
    "                     sort_frames.append(\"fotograma-0\"+str(i)+\".png\")\n",
    "                else:\n",
    "                     sort_frames.append(\"fotograma-\"+str(i)+\".png\")\n",
    "        return sort_frames\n",
    "    \n",
    "    def CentroDeMasa(self,img):\n",
    "        from scipy import ndimage\n",
    "        import numpy as np\n",
    "        mass_center_tuple = ndimage.measurements.center_of_mass(img)\n",
    "        if np.isnan(mass_center_tuple[0]) and np.isnan(mass_center_tuple[1]):\n",
    "\n",
    "            mass_center = [0,0]\n",
    "            return mass_center\n",
    "\n",
    "        else:\n",
    "\n",
    "            mass_center=[int(mass_center_tuple[0]),int(mass_center_tuple[1])]\n",
    "            return mass_center\n",
    "    \n",
    "    def Region(self):\n",
    "        import subprocess\n",
    "        import cv2\n",
    "        import numpy as np\n",
    "        Frames_Originales = self.SortDir(self.path + self.video)\n",
    "        carpeta_de_region = 'region'\n",
    "        carpeta_de_region_color = 'region_color'\n",
    "        subprocess.call(['mkdir', carpeta_de_region])\n",
    "        subprocess.call(['mkdir', 'Segmentacion'])\n",
    "        subprocess.call(['mkdir', carpeta_de_region_color])\n",
    "        fgbg = cv2.bgsegm.createBackgroundSubtractorMOG()\n",
    "\n",
    "        for frame in Frames_Originales:\n",
    "\n",
    "            img = cv2.imread(self.path + self.video + frame)\n",
    "            Segmentacion = fgbg.apply(img)\n",
    "            cv2.imwrite(self.path + 'Segmentacion/' + frame , Segmentacion)\n",
    "            y, x = img.shape[:2]\n",
    "            copia_1 = np.zeros((y,x,3))\n",
    "            copia_2 = np.zeros((y,x,3))\n",
    "            cm = self.CentroDeMasa(Segmentacion)\n",
    "            copia_1[cm[0]-100:cm[0]+101,cm[1]-100:cm[1]+101] = img[cm[0]-100:cm[0]+101,cm[1]-100:cm[1]+101]\n",
    "            copia_2[cm[0]-100:cm[0]+101,cm[1]-100:cm[1]+101] = 255\n",
    "            cv2.imwrite(self.path + carpeta_de_region + '/' + frame, copia_2)\n",
    "            cv2.imwrite(self.path + carpeta_de_region_color + '/' + frame, copia_1)\n",
    "            \n",
    "    def AumentarVector(self,b, a, alfa):\n",
    "        if b == 0:\n",
    "            return b, int(a*alfa)\n",
    "        elif a == 0:\n",
    "            return int(b*alfa), a\n",
    "        else:\n",
    "            c = alfa*a\n",
    "            d = b*c/a\n",
    "            return int(d), int(c)\n",
    "            \n",
    "    def Aumento(self, alfa):\n",
    "        import subprocess\n",
    "        import cv2\n",
    "        import numpy as np\n",
    "        cm_normal = []\n",
    "        cm_aumentado = []\n",
    "        Frames_Region = self.SortDir(self.path + 'region')\n",
    "        total_de_frames = len(Frames_Region)\n",
    "        carpeta_de_aumento = 'Aumento'\n",
    "        subprocess.call(['mkdir', carpeta_de_aumento])\n",
    "        for i,frame in enumerate(Frames_Region):\n",
    "            if i != total_de_frames-1:\n",
    "                img_1 = cv2.imread(self.path + 'region' + '/' + Frames_Region[i], 0)\n",
    "                img_1_color = cv2.imread(self.path + 'region' + '/' + Frames_Region[i])\n",
    "                img_2 = cv2.imread(self.path + 'region' + '/' + Frames_Region[i+1], 0)\n",
    "                y, x = img_1.shape[:2]\n",
    "                img_1_aumentada = np.zeros((y,x,3))\n",
    "                cm_1 = np.array(self.CentroDeMasa(img_1))\n",
    "                cm_2 = np.array(self.CentroDeMasa(img_2))\n",
    "                if np.average(cm_1) != 0 and np.average(cm_2) != 0:\n",
    "                    cm  = cm_2 - cm_1\n",
    "                    y_cm, x_cm = self.AumentarVector(cm[0], cm[1], alfa)\n",
    "                    y_cm = y_cm + cm_1[0]\n",
    "                    x_cm = x_cm + cm_1[1]\n",
    "                    try:\n",
    "                        cm_normal.append(cm_1)\n",
    "                        cm_aumentado.append([y_cm, x_cm])\n",
    "                        img_1_aumentada[y_cm - 100:y_cm + 101, x_cm - 100:x_cm + 101] = img_1_color[cm_1[0] - 100:cm_1[0] + 101,cm_1[1] - 100:cm_1[1] + 101]\n",
    "                        cv2.imwrite(self.path + carpeta_de_aumento + '/' + frame, img_1_aumentada)\n",
    "                    except ValueError:\n",
    "                        cv2.imwrite(self.path + carpeta_de_aumento + '/' + frame, img_1_color)\n",
    "                else:\n",
    "                    cv2.imwrite(self.path + carpeta_de_aumento + '/' + frame, img_1_color)\n",
    "        subprocess.call(['rm','-r', self.video])\n",
    "        !rm -r Aumento\n",
    "        !rm -r region\n",
    "        !rm -r region_color\n",
    "        !rm -r Segmentacion\n",
    "        cm_normal, cm_aumentado = np.array(cm_normal), np.array(cm_aumentado)\n",
    "        a, b = cm_aumentado.shape\n",
    "        a = int(a/2)\n",
    "        return cm_normal[a-30:a+30,0], cm_aumentado[a-30:a+30,0]\n",
    "    \n",
    "    def Normalizar(self, array):\n",
    "        import numpy as np\n",
    "        maximo = np.max(array)\n",
    "        array = array*1/float(maximo)\n",
    "        return array\n",
    "    \n",
    "    def NormaMedia(self, array):\n",
    "        import numpy as np\n",
    "        media = np.mean(array)\n",
    "        array = array - media\n",
    "        return array\n",
    "    \n",
    "    \n",
    "    \n",
    "    def AumentoAutomatico(self,alfa):\n",
    "        self.SacarFotogramas()\n",
    "        self.Region()\n",
    "        cm_normal, cm_aumentado = self.Aumento(alfa)\n",
    "        return self.NormaMedia(self.Normalizar(cm_normal)),self.NormaMedia(self.Normalizar(cm_aumentado))"
   ]
  },
  {
   "cell_type": "code",
   "execution_count": 148,
   "metadata": {},
   "outputs": [],
   "source": [
    "video = 'pk3.avi/'\n",
    "carpeta = 'pk_eu/'\n",
    "Magnificacion = MagnificacionCentroDeMasa('/home/brayan/Documentos/Stsiva_code/',video,carpeta)"
   ]
  },
  {
   "cell_type": "code",
   "execution_count": 149,
   "metadata": {},
   "outputs": [],
   "source": [
    "cm_normal_eu, cm_aumentado_eu = Magnificacion.AumentoAutomatico(1)"
   ]
  },
  {
   "cell_type": "code",
   "execution_count": 150,
   "metadata": {},
   "outputs": [
    {
     "data": {
      "text/plain": [
       "<function matplotlib.pyplot.show>"
      ]
     },
     "execution_count": 150,
     "metadata": {},
     "output_type": "execute_result"
    },
    {
     "data": {
      "image/png": "[encoded data removed]",
      "text/plain": [
       "<Figure size 432x288 with 1 Axes>"
      ]
     },
     "metadata": {
      "needs_background": "light"
     },
     "output_type": "display_data"
    }
   ],
   "source": [
    "import matplotlib.pyplot as plt\n",
    "plt.plot(cm_normal_eu, color = 'blue')\n",
    "plt.plot(cm_aumentado_eu, color = 'red')\n",
    "#plt.legend(('Control','Magnified'))\n",
    "plt.xlabel(\"y\")\n",
    "plt.ylabel(\"x\")\n",
    "plt.grid(alpha=0.6)\n",
    "plt.show"
   ]
  },
  {
   "cell_type": "markdown",
   "metadata": {},
   "source": [
    "# Graficar centro magnificado con eurelian y el original."
   ]
  },
  {
   "cell_type": "code",
   "execution_count": 151,
   "metadata": {},
   "outputs": [
    {
     "data": {
      "text/plain": [
       "<function matplotlib.pyplot.show>"
      ]
     },
     "execution_count": 151,
     "metadata": {},
     "output_type": "execute_result"
    },
    {
     "data": {
      "image/png": "[encoded data removed]",
      "text/plain": [
       "<Figure size 432x288 with 1 Axes>"
      ]
     },
     "metadata": {
      "needs_background": "light"
     },
     "output_type": "display_data"
    }
   ],
   "source": [
    "Magnificacion = MagnificacionCentroDeMasa('/home/brayan/Documentos/Stsiva_code/','pk3.mp4/','pk/')\n",
    "cm_normal, cm_aumentado = Magnificacion.AumentoAutomatico(1)\n",
    "\n",
    "import matplotlib.pyplot as plt\n",
    "plt.plot(cm_normal, color = 'blue')\n",
    "plt.plot(cm_aumentado_eu, color = 'red')\n",
    "plt.legend(('Control','Magnified'))\n",
    "plt.xlabel(\"y\")\n",
    "plt.ylabel(\"x\")\n",
    "plt.grid(alpha=0.6)\n",
    "plt.show"
   ]
  },
  {
   "cell_type": "code",
   "execution_count": 3,
   "metadata": {},
   "outputs": [
    {
     "name": "stderr",
     "output_type": "stream",
     "text": [
      "/home/brayan/anaconda2/lib/python2.7/site-packages/scipy/ndimage/measurements.py:1328: RuntimeWarning: invalid value encountered in double_scalars\n",
      "  for dir in range(input.ndim)]\n"
     ]
    }
   ],
   "source": [
    "Magnificacion = MagnificacionCentroDeMasa('/home/brayan/Documentos/Stsiva_code/','pk3.mp4/','pk/')\n",
    "cm_normal1, cm_aumentado1 = Magnificacion.AumentoAutomatico(4)\n",
    "\n",
    "Magnificacion = MagnificacionCentroDeMasa('/home/brayan/Documentos/Stsiva_code/','pk1.mp4/','pk/')\n",
    "cm_normal2, cm_aumentado2 = Magnificacion.AumentoAutomatico(4)"
   ]
  },
  {
   "cell_type": "code",
   "execution_count": 5,
   "metadata": {},
   "outputs": [
    {
     "name": "stdout",
     "output_type": "stream",
     "text": [
      "0.0009974276142044544\n",
      "0.0035113918832476347\n"
     ]
    }
   ],
   "source": [
    "from sklearn.metrics import mean_squared_error\n",
    "\n",
    "print mean_squared_error(cm_normal1,cm_normal2)\n",
    "print mean_squared_error(cm_aumentado1,cm_aumentado2)"
   ]
  },
  {
   "cell_type": "code",
   "execution_count": null,
   "metadata": {},
   "outputs": [],
   "source": []
  }
 ],
 "metadata": {
  "kernelspec": {
   "display_name": "Python 2",
   "language": "python",
   "name": "python2"
  },
  "language_info": {
   "codemirror_mode": {
    "name": "ipython",
    "version": 2
   },
   "file_extension": ".py",
   "mimetype": "text/x-python",
   "name": "python",
   "nbconvert_exporter": "python",
   "pygments_lexer": "ipython2",
   "version": "2.7.15"
  }
 },
 "nbformat": 4,
 "nbformat_minor": 2
}
